{
  "nbformat": 4,
  "nbformat_minor": 0,
  "metadata": {
    "colab": {
      "name": "Titanic - Machine Learning from Disaster.ipynb",
      "private_outputs": true,
      "provenance": [],
      "collapsed_sections": []
    },
    "kernelspec": {
      "name": "python3",
      "display_name": "Python 3"
    },
    "language_info": {
      "name": "python"
    }
  },
  "cells": [
    {
      "cell_type": "markdown",
      "metadata": {
        "id": "DMR1MFBpjeTH"
      },
      "source": [
        "### Importing Basic Libraries"
      ]
    },
    {
      "cell_type": "code",
      "metadata": {
        "id": "SdUCjs-DYK8x"
      },
      "source": [
        "import numpy as np\n",
        "import pandas as pd\n",
        "import matplotlib.pyplot as plt\n",
        "import seaborn as sns"
      ],
      "execution_count": null,
      "outputs": []
    },
    {
      "cell_type": "markdown",
      "metadata": {
        "id": "RpVI-Qq7ji-W"
      },
      "source": [
        "### Reading Training Data and Cleaning it"
      ]
    },
    {
      "cell_type": "code",
      "metadata": {
        "id": "_avVuWIvYd0-"
      },
      "source": [
        "train_data = pd.read_csv('train.csv')\n",
        "train_data.head()"
      ],
      "execution_count": null,
      "outputs": []
    },
    {
      "cell_type": "code",
      "metadata": {
        "id": "kQsOgnXrYmlK"
      },
      "source": [
        "train_data = train_data.drop(['PassengerId' , 'Name' , 'SibSp' , 'Parch' , 'Ticket' , 'Cabin' , 'Embarked'],axis=1)\n",
        "train_data.head()"
      ],
      "execution_count": null,
      "outputs": []
    },
    {
      "cell_type": "code",
      "metadata": {
        "id": "Mb0JgXMAZdrQ"
      },
      "source": [
        "train_data.info()"
      ],
      "execution_count": null,
      "outputs": []
    },
    {
      "cell_type": "code",
      "metadata": {
        "id": "bjYWt1a2ZhGG"
      },
      "source": [
        "train_data.describe()"
      ],
      "execution_count": null,
      "outputs": []
    },
    {
      "cell_type": "code",
      "metadata": {
        "id": "NzZ1g4-4Z3jg"
      },
      "source": [
        "train_data.isnull().sum()"
      ],
      "execution_count": null,
      "outputs": []
    },
    {
      "cell_type": "code",
      "metadata": {
        "id": "iOOyYS4gY1P5"
      },
      "source": [
        "gender = pd.get_dummies(train_data['Sex'])\n",
        "train_data = pd.concat([train_data,gender],axis=1)"
      ],
      "execution_count": null,
      "outputs": []
    },
    {
      "cell_type": "code",
      "metadata": {
        "id": "KAi03eT_ZUlt"
      },
      "source": [
        "train_data.head()"
      ],
      "execution_count": null,
      "outputs": []
    },
    {
      "cell_type": "code",
      "metadata": {
        "id": "depq3pKCZWWS"
      },
      "source": [
        "train_data = train_data.drop(['Sex','female'],axis=1)\n",
        "train_data.head()"
      ],
      "execution_count": null,
      "outputs": []
    },
    {
      "cell_type": "code",
      "metadata": {
        "id": "B8mbLk7_aIwK"
      },
      "source": [
        "mean_age = round(train_data.Age.mean())\n",
        "train_data.Age.fillna(mean_age,inplace=True)"
      ],
      "execution_count": null,
      "outputs": []
    },
    {
      "cell_type": "code",
      "metadata": {
        "id": "kO26j1V5aH5W"
      },
      "source": [
        "train_data"
      ],
      "execution_count": null,
      "outputs": []
    },
    {
      "cell_type": "code",
      "metadata": {
        "id": "7xB0eGSBa_Xo"
      },
      "source": [
        "train_data.isnull().sum()"
      ],
      "execution_count": null,
      "outputs": []
    },
    {
      "cell_type": "markdown",
      "metadata": {
        "id": "yL0SToOxjrnj"
      },
      "source": [
        "### Using Machine Learning to Predict the test data (Also using same methods for cleaning of test data )"
      ]
    },
    {
      "cell_type": "code",
      "metadata": {
        "id": "n9nHEkB1d6pe"
      },
      "source": [
        "X = train_data.drop('Survived',axis=1).values\n",
        "y = train_data['Survived'].values"
      ],
      "execution_count": null,
      "outputs": []
    },
    {
      "cell_type": "code",
      "metadata": {
        "id": "xihVLXPyfB3O"
      },
      "source": [
        "from sklearn.model_selection import GridSearchCV\n",
        "tuned_parameters = [{'kernel': ['rbf'], 'gamma': [1e-3, 1e-4],'C': [1, 10, 100, 1000]}]\n",
        "\n",
        "clf = GridSearchCV(SVC(), tuned_parameters,cv=5)\n",
        "clf.fit(X, y)"
      ],
      "execution_count": null,
      "outputs": []
    },
    {
      "cell_type": "markdown",
      "metadata": {
        "id": "Ar4TukEyjdco"
      },
      "source": [
        ""
      ]
    },
    {
      "cell_type": "code",
      "metadata": {
        "id": "NeCfyxQEf0MQ"
      },
      "source": [
        "clf.best_score_"
      ],
      "execution_count": null,
      "outputs": []
    },
    {
      "cell_type": "code",
      "metadata": {
        "id": "rtjXJzqCf8fS"
      },
      "source": [
        "clf.best_params_"
      ],
      "execution_count": null,
      "outputs": []
    },
    {
      "cell_type": "code",
      "metadata": {
        "id": "H0tT-Oa7bNg7"
      },
      "source": [
        "from sklearn.svm import SVC\n",
        "model = SVC(kernel='rbf', C=1000, gamma=0.001)\n",
        "model.fit(X,y)"
      ],
      "execution_count": null,
      "outputs": []
    },
    {
      "cell_type": "code",
      "metadata": {
        "id": "EZ5dpH5BePAW"
      },
      "source": [
        "test_data = pd.read_csv('test.csv')\n",
        "test_data.head()"
      ],
      "execution_count": null,
      "outputs": []
    },
    {
      "cell_type": "code",
      "metadata": {
        "id": "fiamcqZyiCE4"
      },
      "source": [
        "passenger = test_data['PassengerId'].values"
      ],
      "execution_count": null,
      "outputs": []
    },
    {
      "cell_type": "code",
      "metadata": {
        "id": "8XWXcpQdgs5W"
      },
      "source": [
        "test_data = test_data.drop(['PassengerId' , 'Name' , 'SibSp' , 'Parch' , 'Ticket' , 'Cabin' , 'Embarked'],axis=1)\n",
        "test_data.head()"
      ],
      "execution_count": null,
      "outputs": []
    },
    {
      "cell_type": "code",
      "metadata": {
        "id": "9bpKXYgNg27t"
      },
      "source": [
        "test_data.isnull().sum()"
      ],
      "execution_count": null,
      "outputs": []
    },
    {
      "cell_type": "code",
      "metadata": {
        "id": "2NjcbPVbg-d_"
      },
      "source": [
        "test_data['Age'].fillna(test_data.Age.mean(),inplace=True)\n",
        "test_data['Fare'].fillna(test_data.Fare.mean(),inplace=True)\n"
      ],
      "execution_count": null,
      "outputs": []
    },
    {
      "cell_type": "code",
      "metadata": {
        "id": "-GmPNuRihVOY"
      },
      "source": [
        "test_data.isnull().sum()\n"
      ],
      "execution_count": null,
      "outputs": []
    },
    {
      "cell_type": "code",
      "metadata": {
        "id": "X4MT_gXmhW8V"
      },
      "source": [
        "gender = pd.get_dummies(test_data['Sex'])\n",
        "test_data = pd.concat([test_data,gender],axis=1)\n",
        "test_data = test_data.drop(['Sex','female'],axis=1)\n",
        "test_data.head()"
      ],
      "execution_count": null,
      "outputs": []
    },
    {
      "cell_type": "code",
      "metadata": {
        "id": "ScUd1ulxhocE"
      },
      "source": [
        "predictions = model.predict(test_data)"
      ],
      "execution_count": null,
      "outputs": []
    },
    {
      "cell_type": "markdown",
      "metadata": {
        "id": "wlORtYiwj-N3"
      },
      "source": [
        "### Creating an external csv file for storing predictions"
      ]
    },
    {
      "cell_type": "code",
      "metadata": {
        "id": "VzCRQsGRhvBN"
      },
      "source": [
        "submission = pd.DataFrame({'PassengerId': passenger , 'Survived' : predictions})\n",
        "submission"
      ],
      "execution_count": null,
      "outputs": []
    },
    {
      "cell_type": "code",
      "metadata": {
        "id": "UEWiC8zdjKcU"
      },
      "source": [
        "submission.to_csv('submission.csv',index=False)"
      ],
      "execution_count": null,
      "outputs": []
    },
    {
      "cell_type": "markdown",
      "metadata": {
        "id": "ni6IdX7EkF27"
      },
      "source": [
        "### Visualizing the Training Data"
      ]
    },
    {
      "cell_type": "code",
      "metadata": {
        "id": "fZVPnq4sk5IH"
      },
      "source": [
        "plt.style.use('bmh') "
      ],
      "execution_count": null,
      "outputs": []
    },
    {
      "cell_type": "code",
      "metadata": {
        "id": "ZY1paIJJkKaz"
      },
      "source": [
        "not_survived = train_data[train_data['Survived'] == 0 ]"
      ],
      "execution_count": null,
      "outputs": []
    },
    {
      "cell_type": "code",
      "metadata": {
        "id": "ivGPioDGkLNG"
      },
      "source": [
        "sns.histplot(train_data['Age'])\n",
        "plt.show()\n",
        "\n",
        "\n",
        "##Using this plot we can say people whose age were 30s were the most number of people who didnt survived"
      ],
      "execution_count": null,
      "outputs": []
    },
    {
      "cell_type": "code",
      "metadata": {
        "id": "R9f3dy_lmBk5"
      },
      "source": [
        "sns.kdeplot(train_data['Pclass'])\n",
        "plt.show()\n",
        "\n",
        "## Here we can see most number of people were in Pclass 3"
      ],
      "execution_count": null,
      "outputs": []
    },
    {
      "cell_type": "code",
      "metadata": {
        "id": "sJ1B0sbwmc8F"
      },
      "source": [
        "sns.histplot(not_survived['male'])\n",
        "plt.show()\n",
        "\n",
        "##Males died more than females"
      ],
      "execution_count": null,
      "outputs": []
    }
  ]
}